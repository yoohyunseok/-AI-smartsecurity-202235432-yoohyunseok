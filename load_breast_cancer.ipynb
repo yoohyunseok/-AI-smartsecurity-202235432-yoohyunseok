{
  "nbformat": 4,
  "nbformat_minor": 0,
  "metadata": {
    "colab": {
      "provenance": [],
      "authorship_tag": "ABX9TyOxv00lhQZjgroD1O34/LTU",
      "include_colab_link": true
    },
    "kernelspec": {
      "name": "python3",
      "display_name": "Python 3"
    },
    "language_info": {
      "name": "python"
    }
  },
  "cells": [
    {
      "cell_type": "markdown",
      "metadata": {
        "id": "view-in-github",
        "colab_type": "text"
      },
      "source": [
        "<a href=\"https://colab.research.google.com/github/yoohyunseok/-AI-smartsecurity-202235432-yoohyunseok/blob/main/load_breast_cancer.ipynb\" target=\"_parent\"><img src=\"https://colab.research.google.com/assets/colab-badge.svg\" alt=\"Open In Colab\"/></a>"
      ]
    },
    {
      "cell_type": "code",
      "execution_count": null,
      "metadata": {
        "colab": {
          "base_uri": "https://localhost:8080/"
        },
        "id": "Sb20HAt9pJ07",
        "outputId": "f521efc6-b6e0-45d3-e8de-9c916cd8d15d"
      },
      "outputs": [
        {
          "output_type": "stream",
          "name": "stdout",
          "text": [
            "      0      1       2       3        4        5        6        7       8   \\\n",
            "0  17.99  10.38  122.80  1001.0  0.11840  0.27760  0.30010  0.14710  0.2419   \n",
            "1  20.57  17.77  132.90  1326.0  0.08474  0.07864  0.08690  0.07017  0.1812   \n",
            "2  19.69  21.25  130.00  1203.0  0.10960  0.15990  0.19740  0.12790  0.2069   \n",
            "3  11.42  20.38   77.58   386.1  0.14250  0.28390  0.24140  0.10520  0.2597   \n",
            "4  20.29  14.34  135.10  1297.0  0.10030  0.13280  0.19800  0.10430  0.1809   \n",
            "5  12.45  15.70   82.57   477.1  0.12780  0.17000  0.15780  0.08089  0.2087   \n",
            "6  18.25  19.98  119.60  1040.0  0.09463  0.10900  0.11270  0.07400  0.1794   \n",
            "7  13.71  20.83   90.20   577.9  0.11890  0.16450  0.09366  0.05985  0.2196   \n",
            "8  13.00  21.82   87.50   519.8  0.12730  0.19320  0.18590  0.09353  0.2350   \n",
            "9  12.46  24.04   83.97   475.9  0.11860  0.23960  0.22730  0.08543  0.2030   \n",
            "\n",
            "        9   ...     20     21      22      23      24      25      26      27  \\\n",
            "0  0.07871  ...  25.38  17.33  184.60  2019.0  0.1622  0.6656  0.7119  0.2654   \n",
            "1  0.05667  ...  24.99  23.41  158.80  1956.0  0.1238  0.1866  0.2416  0.1860   \n",
            "2  0.05999  ...  23.57  25.53  152.50  1709.0  0.1444  0.4245  0.4504  0.2430   \n",
            "3  0.09744  ...  14.91  26.50   98.87   567.7  0.2098  0.8663  0.6869  0.2575   \n",
            "4  0.05883  ...  22.54  16.67  152.20  1575.0  0.1374  0.2050  0.4000  0.1625   \n",
            "5  0.07613  ...  15.47  23.75  103.40   741.6  0.1791  0.5249  0.5355  0.1741   \n",
            "6  0.05742  ...  22.88  27.66  153.20  1606.0  0.1442  0.2576  0.3784  0.1932   \n",
            "7  0.07451  ...  17.06  28.14  110.60   897.0  0.1654  0.3682  0.2678  0.1556   \n",
            "8  0.07389  ...  15.49  30.73  106.20   739.3  0.1703  0.5401  0.5390  0.2060   \n",
            "9  0.08243  ...  15.09  40.68   97.65   711.4  0.1853  1.0580  1.1050  0.2210   \n",
            "\n",
            "       28       29  \n",
            "0  0.4601  0.11890  \n",
            "1  0.2750  0.08902  \n",
            "2  0.3613  0.08758  \n",
            "3  0.6638  0.17300  \n",
            "4  0.2364  0.07678  \n",
            "5  0.3985  0.12440  \n",
            "6  0.3063  0.08368  \n",
            "7  0.3196  0.11510  \n",
            "8  0.4378  0.10720  \n",
            "9  0.4366  0.20750  \n",
            "\n",
            "[10 rows x 30 columns]\n",
            "   0\n",
            "0  0\n",
            "1  0\n",
            "2  0\n",
            "3  0\n",
            "4  0\n",
            "5  0\n",
            "6  0\n",
            "7  0\n",
            "8  0\n",
            "9  0\n",
            "(569, 1)\n",
            "['malignant' 'benign']\n",
            "X_train.shape : (456, 30)\n",
            "y_train.shape : (456, 1)\n",
            "X_test.shape: (113, 30)\n",
            "y_test.shape: (113, 1)\n"
          ]
        },
        {
          "output_type": "stream",
          "name": "stderr",
          "text": [
            "/usr/local/lib/python3.8/dist-packages/sklearn/neighbors/_classification.py:215: DataConversionWarning: A column-vector y was passed when a 1d array was expected. Please change the shape of y to (n_samples,), for example using ravel().\n",
            "  return self._fit(X, y)\n"
          ]
        },
        {
          "output_type": "execute_result",
          "data": {
            "text/plain": [
              "0.9469026548672567"
            ]
          },
          "metadata": {},
          "execution_count": 1
        }
      ],
      "source": [
        "from sklearn.datasets import load_breast_cancer\n",
        "\n",
        "import pandas as pd\n",
        "\n",
        "breast_cancer_data = load_breast_cancer()\n",
        "\n",
        "df_data = pd.DataFrame(breast_cancer_data.data)\n",
        "\n",
        "df_labels = pd.DataFrame(breast_cancer_data.target)\n",
        "\n",
        "def min_max_normalize(lst): #정규화: 모든 데이터의 스케일을 어느정도 동일하게 맞추는 작업()\n",
        "    normalized = []\n",
        "    \n",
        "    for value in lst:\n",
        "        normalized_num = (value - min(lst)) / (max(lst) - min(lst))\n",
        "        normalized.append(normalized_num)\n",
        "    \n",
        "    return normalized\n",
        "\n",
        "\n",
        "print(df_data[:10])\n",
        "print(df_labels[:10])\n",
        "\n",
        "print(df_labels.shape)\n",
        "\n",
        "##(숙제 : data와 labels 열개만 출력해서 실제 값을 확인하세요)\n",
        "\n",
        "print(breast_cancer_data.target_names)\n",
        "\n",
        "##(X_train, y_train, X_test, y_test 로 훈련과 테스트 데이터를 8:2로 나누기)\n",
        "\n",
        "X_train = df_data[:456]\n",
        "y_train = df_labels[:456]\n",
        "\n",
        "X_test = df_data[456:]\n",
        "y_test = df_labels[456:]\n",
        "\n",
        "print(\"X_train.shape :\", X_train.shape)\n",
        "\n",
        "print(\"y_train.shape :\", y_train.shape)\n",
        "\n",
        "print(\"X_test.shape:\", X_test.shape)\n",
        "\n",
        "print(\"y_test.shape:\", y_test.shape)\n",
        "\n",
        "for x in range(len(df_data.columns)):\n",
        "    df_data[x] = min_max_normalize(df_data[x])\n",
        "\n",
        "\n",
        "##(KNN 알고리즘 모델 만들기, K값은 3을 사용)\n",
        "from sklearn.neighbors import KNeighborsClassifier\n",
        "mymodel = KNeighborsClassifier(n_neighbors = 3)\n",
        "##(KNN 모델 훈련)\n",
        "mymodel.fit(X_train, y_train)\n",
        "\n",
        "# 예측\n",
        "\n",
        "prediction = mymodel.predict(X_test)\n",
        "\n",
        "mymodel.score(X_test, y_test)"
      ]
    }
  ]
}