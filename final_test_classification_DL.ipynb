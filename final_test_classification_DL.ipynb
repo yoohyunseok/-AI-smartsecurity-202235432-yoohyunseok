{
 "cells": [
  {
   "cell_type": "code",
   "execution_count": 53,
   "metadata": {},
   "outputs": [],
   "source": [
    "import matplotlib.pyplot as plt\n",
    "import numpy as np\n",
    "import pandas as pd\n",
    "import seaborn as sns\n",
    "from sklearn.model_selection import train_test_split\n",
    "from sklearn import metrics\n",
    "import tensorflow as tf\n",
    "from tensorflow import keras\n",
    "from tensorflow.keras import layers"
   ]
  },
  {
   "cell_type": "code",
   "execution_count": 54,
   "metadata": {},
   "outputs": [
    {
     "data": {
      "text/html": [
       "<div>\n",
       "<style scoped>\n",
       "    .dataframe tbody tr th:only-of-type {\n",
       "        vertical-align: middle;\n",
       "    }\n",
       "\n",
       "    .dataframe tbody tr th {\n",
       "        vertical-align: top;\n",
       "    }\n",
       "\n",
       "    .dataframe thead th {\n",
       "        text-align: right;\n",
       "    }\n",
       "</style>\n",
       "<table border=\"1\" class=\"dataframe\">\n",
       "  <thead>\n",
       "    <tr style=\"text-align: right;\">\n",
       "      <th></th>\n",
       "      <th>timestamp</th>\n",
       "      <th>back_x</th>\n",
       "      <th>back_y</th>\n",
       "      <th>back_z</th>\n",
       "      <th>thigh_x</th>\n",
       "      <th>thigh_y</th>\n",
       "      <th>thigh_z</th>\n",
       "      <th>label</th>\n",
       "    </tr>\n",
       "  </thead>\n",
       "  <tbody>\n",
       "    <tr>\n",
       "      <th>0</th>\n",
       "      <td>42:03.8</td>\n",
       "      <td>-0.999023</td>\n",
       "      <td>-0.063477</td>\n",
       "      <td>0.140625</td>\n",
       "      <td>-0.980469</td>\n",
       "      <td>-0.112061</td>\n",
       "      <td>-0.048096</td>\n",
       "      <td>6</td>\n",
       "    </tr>\n",
       "    <tr>\n",
       "      <th>1</th>\n",
       "      <td>42:03.9</td>\n",
       "      <td>-0.980225</td>\n",
       "      <td>-0.079346</td>\n",
       "      <td>0.140625</td>\n",
       "      <td>-0.961182</td>\n",
       "      <td>-0.121582</td>\n",
       "      <td>-0.051758</td>\n",
       "      <td>6</td>\n",
       "    </tr>\n",
       "    <tr>\n",
       "      <th>2</th>\n",
       "      <td>42:03.9</td>\n",
       "      <td>-0.950195</td>\n",
       "      <td>-0.076416</td>\n",
       "      <td>0.140625</td>\n",
       "      <td>-0.949463</td>\n",
       "      <td>-0.080566</td>\n",
       "      <td>-0.067139</td>\n",
       "      <td>6</td>\n",
       "    </tr>\n",
       "    <tr>\n",
       "      <th>3</th>\n",
       "      <td>42:03.9</td>\n",
       "      <td>-0.954834</td>\n",
       "      <td>-0.059082</td>\n",
       "      <td>0.140381</td>\n",
       "      <td>-0.957520</td>\n",
       "      <td>-0.046143</td>\n",
       "      <td>-0.050781</td>\n",
       "      <td>6</td>\n",
       "    </tr>\n",
       "    <tr>\n",
       "      <th>4</th>\n",
       "      <td>42:03.9</td>\n",
       "      <td>-0.972412</td>\n",
       "      <td>-0.042969</td>\n",
       "      <td>0.142822</td>\n",
       "      <td>-0.977051</td>\n",
       "      <td>-0.023682</td>\n",
       "      <td>-0.026611</td>\n",
       "      <td>6</td>\n",
       "    </tr>\n",
       "    <tr>\n",
       "      <th>...</th>\n",
       "      <td>...</td>\n",
       "      <td>...</td>\n",
       "      <td>...</td>\n",
       "      <td>...</td>\n",
       "      <td>...</td>\n",
       "      <td>...</td>\n",
       "      <td>...</td>\n",
       "      <td>...</td>\n",
       "    </tr>\n",
       "    <tr>\n",
       "      <th>103855</th>\n",
       "      <td>17:06.0</td>\n",
       "      <td>-0.760010</td>\n",
       "      <td>-0.068848</td>\n",
       "      <td>-0.203125</td>\n",
       "      <td>-0.796875</td>\n",
       "      <td>-0.007812</td>\n",
       "      <td>-0.036865</td>\n",
       "      <td>6</td>\n",
       "    </tr>\n",
       "    <tr>\n",
       "      <th>103856</th>\n",
       "      <td>17:06.0</td>\n",
       "      <td>-0.736328</td>\n",
       "      <td>-0.068115</td>\n",
       "      <td>-0.203125</td>\n",
       "      <td>-0.769287</td>\n",
       "      <td>0.037354</td>\n",
       "      <td>-0.056641</td>\n",
       "      <td>6</td>\n",
       "    </tr>\n",
       "    <tr>\n",
       "      <th>103857</th>\n",
       "      <td>17:06.0</td>\n",
       "      <td>-0.736328</td>\n",
       "      <td>-0.079834</td>\n",
       "      <td>-0.203125</td>\n",
       "      <td>-0.763672</td>\n",
       "      <td>0.052490</td>\n",
       "      <td>-0.027588</td>\n",
       "      <td>6</td>\n",
       "    </tr>\n",
       "    <tr>\n",
       "      <th>103858</th>\n",
       "      <td>17:06.0</td>\n",
       "      <td>-0.762207</td>\n",
       "      <td>-0.078125</td>\n",
       "      <td>-0.205078</td>\n",
       "      <td>-0.763428</td>\n",
       "      <td>0.042236</td>\n",
       "      <td>0.022705</td>\n",
       "      <td>6</td>\n",
       "    </tr>\n",
       "    <tr>\n",
       "      <th>103859</th>\n",
       "      <td>17:06.1</td>\n",
       "      <td>-0.799805</td>\n",
       "      <td>-0.078125</td>\n",
       "      <td>-0.196533</td>\n",
       "      <td>-0.770264</td>\n",
       "      <td>0.013428</td>\n",
       "      <td>0.081543</td>\n",
       "      <td>6</td>\n",
       "    </tr>\n",
       "  </tbody>\n",
       "</table>\n",
       "<p>103860 rows × 8 columns</p>\n",
       "</div>"
      ],
      "text/plain": [
       "       timestamp    back_x    back_y    back_z   thigh_x   thigh_y   thigh_z  \\\n",
       "0        42:03.8 -0.999023 -0.063477  0.140625 -0.980469 -0.112061 -0.048096   \n",
       "1        42:03.9 -0.980225 -0.079346  0.140625 -0.961182 -0.121582 -0.051758   \n",
       "2        42:03.9 -0.950195 -0.076416  0.140625 -0.949463 -0.080566 -0.067139   \n",
       "3        42:03.9 -0.954834 -0.059082  0.140381 -0.957520 -0.046143 -0.050781   \n",
       "4        42:03.9 -0.972412 -0.042969  0.142822 -0.977051 -0.023682 -0.026611   \n",
       "...          ...       ...       ...       ...       ...       ...       ...   \n",
       "103855   17:06.0 -0.760010 -0.068848 -0.203125 -0.796875 -0.007812 -0.036865   \n",
       "103856   17:06.0 -0.736328 -0.068115 -0.203125 -0.769287  0.037354 -0.056641   \n",
       "103857   17:06.0 -0.736328 -0.079834 -0.203125 -0.763672  0.052490 -0.027588   \n",
       "103858   17:06.0 -0.762207 -0.078125 -0.205078 -0.763428  0.042236  0.022705   \n",
       "103859   17:06.1 -0.799805 -0.078125 -0.196533 -0.770264  0.013428  0.081543   \n",
       "\n",
       "        label  \n",
       "0           6  \n",
       "1           6  \n",
       "2           6  \n",
       "3           6  \n",
       "4           6  \n",
       "...       ...  \n",
       "103855      6  \n",
       "103856      6  \n",
       "103857      6  \n",
       "103858      6  \n",
       "103859      6  \n",
       "\n",
       "[103860 rows x 8 columns]"
      ]
     },
     "execution_count": 54,
     "metadata": {},
     "output_type": "execute_result"
    }
   ],
   "source": [
    "dataset = pd.read_csv(\"C:/Users/UserName/Desktop/인공지능 개론/데이터 셋/501 (1).csv\")\n",
    "dataset"
   ]
  },
  {
   "cell_type": "code",
   "execution_count": 55,
   "metadata": {},
   "outputs": [
    {
     "data": {
      "text/plain": [
       "(103860, 8)"
      ]
     },
     "execution_count": 55,
     "metadata": {},
     "output_type": "execute_result"
    }
   ],
   "source": [
    "dataset.shape"
   ]
  },
  {
   "cell_type": "code",
   "execution_count": 56,
   "metadata": {},
   "outputs": [
    {
     "data": {
      "text/plain": [
       "timestamp    0\n",
       "back_x       0\n",
       "back_y       0\n",
       "back_z       0\n",
       "thigh_x      0\n",
       "thigh_y      0\n",
       "thigh_z      0\n",
       "label        0\n",
       "dtype: int64"
      ]
     },
     "execution_count": 56,
     "metadata": {},
     "output_type": "execute_result"
    }
   ],
   "source": [
    "dataset.isnull().sum()"
   ]
  },
  {
   "cell_type": "code",
   "execution_count": 57,
   "metadata": {},
   "outputs": [],
   "source": [
    "dataset = dataset.sample(frac = 0.1)"
   ]
  },
  {
   "cell_type": "code",
   "execution_count": 58,
   "metadata": {},
   "outputs": [],
   "source": [
    "from sklearn.preprocessing import LabelEncoder\n",
    "le = LabelEncoder()\n",
    "dataset['label']=le.fit_transform(dataset['label'])"
   ]
  },
  {
   "cell_type": "code",
   "execution_count": 59,
   "metadata": {},
   "outputs": [
    {
     "data": {
      "text/plain": [
       "Text(0.5, 1.0, 'Label')"
      ]
     },
     "execution_count": 59,
     "metadata": {},
     "output_type": "execute_result"
    },
    {
     "data": {
      "image/png": "[encoded data removed]",
      "text/plain": [
       "<Figure size 640x480 with 1 Axes>"
      ]
     },
     "metadata": {},
     "output_type": "display_data"
    }
   ],
   "source": [
    "sns.countplot(data = dataset, x=\"label\")\n",
    "plt.xlabel(\"Cancer or Not\")\n",
    "plt.ylabel(\"Count\")\n",
    "plt.title(\"Label\")"
   ]
  },
  {
   "cell_type": "code",
   "execution_count": 60,
   "metadata": {},
   "outputs": [],
   "source": [
    "#Splitting the data into training and test test\n",
    "X = dataset.iloc[:,1:7].values\n",
    "y = dataset.iloc[:,7].values\n",
    "\n",
    "from sklearn.preprocessing import LabelEncoder\n",
    "encoder =  LabelEncoder()\n",
    "y1 = encoder.fit_transform(y)\n",
    "\n",
    "Y = pd.get_dummies(y).values\n",
    "\n",
    "\n",
    "from sklearn.model_selection import train_test_split\n",
    "X_train,X_test, y_train,y_test = train_test_split(X,Y,test_size=0.2,random_state=0) "
   ]
  },
  {
   "cell_type": "code",
   "execution_count": 61,
   "metadata": {},
   "outputs": [
    {
     "data": {
      "text/plain": [
       "array([[-0.743652, -0.134521, -0.175781, -0.31958 , -0.031982,  0.197266],\n",
       "       [-0.828125,  0.028076, -0.325195, -0.95752 , -0.093994, -0.124023],\n",
       "       [-0.953125, -0.015625,  0.234375,  0.03125 , -0.0625  , -1.09375 ],\n",
       "       ...,\n",
       "       [-0.751465, -0.232178, -0.169189, -0.344727, -0.09375 ,  0.289062],\n",
       "       [-0.151367, -0.015625,  0.90625 , -0.125   , -0.125   , -1.078125],\n",
       "       [-1.306396,  0.030762, -0.45752 , -1.212646, -0.030029, -0.288086]])"
      ]
     },
     "execution_count": 61,
     "metadata": {},
     "output_type": "execute_result"
    }
   ],
   "source": [
    "X"
   ]
  },
  {
   "cell_type": "code",
   "execution_count": 62,
   "metadata": {},
   "outputs": [
    {
     "data": {
      "text/plain": [
       "array([[1, 0, 0, ..., 0, 0, 0],\n",
       "       [1, 0, 0, ..., 0, 0, 0],\n",
       "       [0, 0, 0, ..., 0, 1, 0],\n",
       "       ...,\n",
       "       [1, 0, 0, ..., 0, 0, 0],\n",
       "       [0, 0, 0, ..., 0, 0, 1],\n",
       "       [1, 0, 0, ..., 0, 0, 0]], dtype=uint8)"
      ]
     },
     "execution_count": 62,
     "metadata": {},
     "output_type": "execute_result"
    }
   ],
   "source": [
    "Y"
   ]
  },
  {
   "cell_type": "code",
   "execution_count": 63,
   "metadata": {},
   "outputs": [
    {
     "name": "stdout",
     "output_type": "stream",
     "text": [
      "Model: \"sequential_8\"\n",
      "_________________________________________________________________\n",
      " Layer (type)                Output Shape              Param #   \n",
      "=================================================================\n",
      " dense_37 (Dense)            (None, 58)                406       \n",
      "                                                                 \n",
      " dense_38 (Dense)            (None, 128)               7552      \n",
      "                                                                 \n",
      " dense_39 (Dense)            (None, 128)               16512     \n",
      "                                                                 \n",
      " dense_40 (Dense)            (None, 256)               33024     \n",
      "                                                                 \n",
      " dense_41 (Dense)            (None, 7)                 1799      \n",
      "                                                                 \n",
      "=================================================================\n",
      "Total params: 59,293\n",
      "Trainable params: 59,293\n",
      "Non-trainable params: 0\n",
      "_________________________________________________________________\n"
     ]
    },
    {
     "name": "stderr",
     "output_type": "stream",
     "text": [
      "c:\\new\\lib\\site-packages\\keras\\optimizers\\optimizer_v2\\adam.py:114: UserWarning: The `lr` argument is deprecated, use `learning_rate` instead.\n",
      "  super().__init__(name, **kwargs)\n"
     ]
    }
   ],
   "source": [
    "from keras.models import Sequential\n",
    "from keras.layers import Dense\n",
    "from keras.optimizers import SGD,Adam\n",
    "\n",
    "\n",
    "model = Sequential()\n",
    "\n",
    "model.add(Dense(58,input_shape=(6,),activation='relu'))\n",
    "model.add(Dense(128,activation='relu'))\n",
    "model.add(Dense(128,activation='relu'))\n",
    "model.add(Dense(256,activation='relu'))\n",
    "model.add(Dense(7,activation='softmax'))\n",
    "\n",
    "model.compile(Adam(lr=0.0028),'binary_crossentropy',metrics=['accuracy'])\n",
    "\n",
    "model.summary()"
   ]
  },
  {
   "cell_type": "code",
   "execution_count": 64,
   "metadata": {},
   "outputs": [
    {
     "name": "stdout",
     "output_type": "stream",
     "text": [
      "Epoch 1/10\n",
      "693/693 [==============================] - 4s 4ms/step - loss: 0.0779 - accuracy: 0.9156 - val_loss: 0.0575 - val_accuracy: 0.9360\n",
      "Epoch 2/10\n",
      "693/693 [==============================] - 3s 4ms/step - loss: 0.0478 - accuracy: 0.9498 - val_loss: 0.0546 - val_accuracy: 0.9398\n",
      "Epoch 3/10\n",
      "693/693 [==============================] - 3s 5ms/step - loss: 0.0449 - accuracy: 0.9502 - val_loss: 0.0405 - val_accuracy: 0.9581\n",
      "Epoch 4/10\n",
      "693/693 [==============================] - 3s 4ms/step - loss: 0.0412 - accuracy: 0.9546 - val_loss: 0.0392 - val_accuracy: 0.9567\n",
      "Epoch 5/10\n",
      "693/693 [==============================] - 4s 5ms/step - loss: 0.0413 - accuracy: 0.9555 - val_loss: 0.0385 - val_accuracy: 0.9524\n",
      "Epoch 6/10\n",
      "693/693 [==============================] - 4s 6ms/step - loss: 0.0397 - accuracy: 0.9558 - val_loss: 0.0354 - val_accuracy: 0.9586\n",
      "Epoch 7/10\n",
      "693/693 [==============================] - 4s 6ms/step - loss: 0.0388 - accuracy: 0.9585 - val_loss: 0.0363 - val_accuracy: 0.9586\n",
      "Epoch 8/10\n",
      "693/693 [==============================] - 4s 6ms/step - loss: 0.0385 - accuracy: 0.9592 - val_loss: 0.0407 - val_accuracy: 0.9581\n",
      "Epoch 9/10\n",
      "693/693 [==============================] - 4s 6ms/step - loss: 0.0369 - accuracy: 0.9594 - val_loss: 0.0361 - val_accuracy: 0.9567\n",
      "Epoch 10/10\n",
      "693/693 [==============================] - 3s 4ms/step - loss: 0.0354 - accuracy: 0.9596 - val_loss: 0.0377 - val_accuracy: 0.9548\n",
      "65/65 [==============================] - 0s 2ms/step\n"
     ]
    }
   ],
   "source": [
    "model_history=model.fit(x=X_train, y=y_train, epochs=10, batch_size=12,validation_data= (X_test,y_test))\n",
    "y_pred = model.predict(X_test)\n",
    "\n",
    "y_test_class = np.argmax(y_test,axis=1)\n",
    "y_pred_class = np.argmax(y_pred,axis=1)"
   ]
  },
  {
   "cell_type": "code",
   "execution_count": 65,
   "metadata": {},
   "outputs": [
    {
     "data": {
      "image/png": "[encoded data removed]",
      "text/plain": [
       "<Figure size 640x480 with 1 Axes>"
      ]
     },
     "metadata": {},
     "output_type": "display_data"
    }
   ],
   "source": [
    "import matplotlib.pyplot as plt\n",
    "import seaborn as sns\n",
    "\n",
    "loss =model_history.history['loss']\n",
    "val_loss =model_history.history['val_loss']\n",
    "epochs = range(1, len(loss) + 1)\n",
    "plt.plot(epochs, loss, 'y', label='Training loss')\n",
    "plt.plot(epochs, val_loss, 'r', label='Validation loss')\n",
    "plt.title('Training and validation loss')\n",
    "plt.xlabel('Epochs')\n",
    "plt.ylabel('Loss')\n",
    "plt.legend()\n",
    "plt.show()"
   ]
  },
  {
   "cell_type": "code",
   "execution_count": 66,
   "metadata": {},
   "outputs": [
    {
     "data": {
      "image/png": "[encoded data removed]",
      "text/plain": [
       "<Figure size 640x480 with 1 Axes>"
      ]
     },
     "metadata": {},
     "output_type": "display_data"
    }
   ],
   "source": [
    "acc =model_history.history['accuracy']\n",
    "val_acc =model_history.history['val_accuracy']\n",
    "plt.plot(epochs, acc, 'y', label='Training acc')\n",
    "plt.plot(epochs, val_acc, 'r', label='Validation acc')\n",
    "plt.title('Training and validation accuracy')\n",
    "plt.xlabel('Epochs')\n",
    "plt.ylabel('Accuracy')\n",
    "plt.legend()\n",
    "plt.show()"
   ]
  },
  {
   "cell_type": "code",
   "execution_count": 67,
   "metadata": {},
   "outputs": [
    {
     "name": "stdout",
     "output_type": "stream",
     "text": [
      "              precision    recall  f1-score   support\n",
      "\n",
      "           0       0.96      0.97      0.97      1281\n",
      "           1       0.00      0.00      0.00        39\n",
      "           2       0.00      0.00      0.00         1\n",
      "           3       0.00      0.00      0.00         7\n",
      "           4       0.89      0.96      0.92       297\n",
      "           5       1.00      1.00      1.00       269\n",
      "           6       1.00      1.00      1.00       184\n",
      "\n",
      "    accuracy                           0.95      2078\n",
      "   macro avg       0.55      0.56      0.56      2078\n",
      "weighted avg       0.94      0.95      0.95      2078\n",
      "\n",
      "[[1247    5    0    0   29    0    0]\n",
      " [  34    0    0    0    5    0    0]\n",
      " [   1    0    0    0    0    0    0]\n",
      " [   6    0    0    0    1    0    0]\n",
      " [  12    1    0    0  284    0    0]\n",
      " [   0    0    0    0    0  269    0]\n",
      " [   0    0    0    0    0    0  184]]\n"
     ]
    },
    {
     "name": "stderr",
     "output_type": "stream",
     "text": [
      "c:\\new\\lib\\site-packages\\sklearn\\metrics\\_classification.py:1318: UndefinedMetricWarning: Precision and F-score are ill-defined and being set to 0.0 in labels with no predicted samples. Use `zero_division` parameter to control this behavior.\n",
      "  _warn_prf(average, modifier, msg_start, len(result))\n",
      "c:\\new\\lib\\site-packages\\sklearn\\metrics\\_classification.py:1318: UndefinedMetricWarning: Precision and F-score are ill-defined and being set to 0.0 in labels with no predicted samples. Use `zero_division` parameter to control this behavior.\n",
      "  _warn_prf(average, modifier, msg_start, len(result))\n",
      "c:\\new\\lib\\site-packages\\sklearn\\metrics\\_classification.py:1318: UndefinedMetricWarning: Precision and F-score are ill-defined and being set to 0.0 in labels with no predicted samples. Use `zero_division` parameter to control this behavior.\n",
      "  _warn_prf(average, modifier, msg_start, len(result))\n"
     ]
    }
   ],
   "source": [
    "#Accuracy of the predicted values\n",
    "from sklearn.metrics import classification_report,confusion_matrix\n",
    "print(classification_report(y_test_class,y_pred_class))\n",
    "print(confusion_matrix(y_test_class,y_pred_class))"
   ]
  }
 ],
 "metadata": {
  "kernelspec": {
   "display_name": "base",
   "language": "python",
   "name": "python3"
  },
  "language_info": {
   "codemirror_mode": {
    "name": "ipython",
    "version": 3
   },
   "file_extension": ".py",
   "mimetype": "text/x-python",
   "name": "python",
   "nbconvert_exporter": "python",
   "pygments_lexer": "ipython3",
   "version": "3.9.13"
  },
  "orig_nbformat": 4
 },
 "nbformat": 4,
 "nbformat_minor": 2
}
