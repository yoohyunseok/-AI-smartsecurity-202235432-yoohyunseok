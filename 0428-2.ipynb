{
 "cells": [
  {
   "cell_type": "code",
   "execution_count": 106,
   "metadata": {},
   "outputs": [],
   "source": [
    "import numpy as np\n",
    "import pandas as pd\n",
    "from sklearn.model_selection import train_test_split\n",
    "import matplotlib.pyplot as plt\n",
    "from sklearn.preprocessing import StandardScaler, LabelEncoder\n",
    "from sklearn.neighbors import KNeighborsClassifier\n",
    "import seaborn as sns\n",
    "\n",
    "data = pd.read_csv('https://bit.ly/wine_csv_data')"
   ]
  },
  {
   "cell_type": "code",
   "execution_count": 107,
   "metadata": {},
   "outputs": [
    {
     "data": {
      "text/html": [
       "<div>\n",
       "<style scoped>\n",
       "    .dataframe tbody tr th:only-of-type {\n",
       "        vertical-align: middle;\n",
       "    }\n",
       "\n",
       "    .dataframe tbody tr th {\n",
       "        vertical-align: top;\n",
       "    }\n",
       "\n",
       "    .dataframe thead th {\n",
       "        text-align: right;\n",
       "    }\n",
       "</style>\n",
       "<table border=\"1\" class=\"dataframe\">\n",
       "  <thead>\n",
       "    <tr style=\"text-align: right;\">\n",
       "      <th></th>\n",
       "      <th>alcohol</th>\n",
       "      <th>sugar</th>\n",
       "      <th>pH</th>\n",
       "      <th>class</th>\n",
       "    </tr>\n",
       "  </thead>\n",
       "  <tbody>\n",
       "    <tr>\n",
       "      <th>0</th>\n",
       "      <td>9.4</td>\n",
       "      <td>1.9</td>\n",
       "      <td>3.51</td>\n",
       "      <td>0.0</td>\n",
       "    </tr>\n",
       "    <tr>\n",
       "      <th>1</th>\n",
       "      <td>9.8</td>\n",
       "      <td>2.6</td>\n",
       "      <td>3.20</td>\n",
       "      <td>0.0</td>\n",
       "    </tr>\n",
       "    <tr>\n",
       "      <th>2</th>\n",
       "      <td>9.8</td>\n",
       "      <td>2.3</td>\n",
       "      <td>3.26</td>\n",
       "      <td>0.0</td>\n",
       "    </tr>\n",
       "    <tr>\n",
       "      <th>3</th>\n",
       "      <td>9.8</td>\n",
       "      <td>1.9</td>\n",
       "      <td>3.16</td>\n",
       "      <td>0.0</td>\n",
       "    </tr>\n",
       "    <tr>\n",
       "      <th>4</th>\n",
       "      <td>9.4</td>\n",
       "      <td>1.9</td>\n",
       "      <td>3.51</td>\n",
       "      <td>0.0</td>\n",
       "    </tr>\n",
       "    <tr>\n",
       "      <th>...</th>\n",
       "      <td>...</td>\n",
       "      <td>...</td>\n",
       "      <td>...</td>\n",
       "      <td>...</td>\n",
       "    </tr>\n",
       "    <tr>\n",
       "      <th>6492</th>\n",
       "      <td>11.2</td>\n",
       "      <td>1.6</td>\n",
       "      <td>3.27</td>\n",
       "      <td>1.0</td>\n",
       "    </tr>\n",
       "    <tr>\n",
       "      <th>6493</th>\n",
       "      <td>9.6</td>\n",
       "      <td>8.0</td>\n",
       "      <td>3.15</td>\n",
       "      <td>1.0</td>\n",
       "    </tr>\n",
       "    <tr>\n",
       "      <th>6494</th>\n",
       "      <td>9.4</td>\n",
       "      <td>1.2</td>\n",
       "      <td>2.99</td>\n",
       "      <td>1.0</td>\n",
       "    </tr>\n",
       "    <tr>\n",
       "      <th>6495</th>\n",
       "      <td>12.8</td>\n",
       "      <td>1.1</td>\n",
       "      <td>3.34</td>\n",
       "      <td>1.0</td>\n",
       "    </tr>\n",
       "    <tr>\n",
       "      <th>6496</th>\n",
       "      <td>11.8</td>\n",
       "      <td>0.8</td>\n",
       "      <td>3.26</td>\n",
       "      <td>1.0</td>\n",
       "    </tr>\n",
       "  </tbody>\n",
       "</table>\n",
       "<p>6497 rows × 4 columns</p>\n",
       "</div>"
      ],
      "text/plain": [
       "      alcohol  sugar    pH  class\n",
       "0         9.4    1.9  3.51    0.0\n",
       "1         9.8    2.6  3.20    0.0\n",
       "2         9.8    2.3  3.26    0.0\n",
       "3         9.8    1.9  3.16    0.0\n",
       "4         9.4    1.9  3.51    0.0\n",
       "...       ...    ...   ...    ...\n",
       "6492     11.2    1.6  3.27    1.0\n",
       "6493      9.6    8.0  3.15    1.0\n",
       "6494      9.4    1.2  2.99    1.0\n",
       "6495     12.8    1.1  3.34    1.0\n",
       "6496     11.8    0.8  3.26    1.0\n",
       "\n",
       "[6497 rows x 4 columns]"
      ]
     },
     "execution_count": 107,
     "metadata": {},
     "output_type": "execute_result"
    }
   ],
   "source": [
    "data"
   ]
  },
  {
   "cell_type": "code",
   "execution_count": 108,
   "metadata": {},
   "outputs": [
    {
     "data": {
      "text/plain": [
       "(6497,)"
      ]
     },
     "execution_count": 108,
     "metadata": {},
     "output_type": "execute_result"
    }
   ],
   "source": [
    "data['class'].shape"
   ]
  },
  {
   "cell_type": "code",
   "execution_count": 109,
   "metadata": {},
   "outputs": [
    {
     "data": {
      "text/plain": [
       "(6497, 4)"
      ]
     },
     "execution_count": 109,
     "metadata": {},
     "output_type": "execute_result"
    }
   ],
   "source": [
    "data.shape"
   ]
  },
  {
   "cell_type": "code",
   "execution_count": 121,
   "metadata": {},
   "outputs": [
    {
     "name": "stdout",
     "output_type": "stream",
     "text": [
      "(5197, 3) (5197,)\n",
      "(1300, 3) (1300,)\n"
     ]
    }
   ],
   "source": [
    "from sklearn.model_selection import train_test_split\n",
    "\n",
    "\n",
    "x_data=data.loc[:, ['alcohol', 'sugar', 'pH']]\n",
    "y_data=data.loc[:, 'class']\n",
    "X_train, X_test, y_train, y_test=train_test_split(x_data,\n",
    "                                                  y_data,\n",
    "                                                  test_size=0.2,\n",
    "                                                  shuffle=True,\n",
    "                                                  random_state=12)\n",
    "print(X_train.shape, y_train.shape)\n",
    "print(X_test.shape, y_test.shape)"
   ]
  },
  {
   "cell_type": "code",
   "execution_count": 122,
   "metadata": {},
   "outputs": [
    {
     "data": {
      "text/plain": [
       "pandas.core.frame.DataFrame"
      ]
     },
     "execution_count": 122,
     "metadata": {},
     "output_type": "execute_result"
    }
   ],
   "source": [
    "type(X_train)"
   ]
  },
  {
   "cell_type": "code",
   "execution_count": 123,
   "metadata": {},
   "outputs": [
    {
     "data": {
      "text/plain": [
       "<bound method IndexOpsMixin.to_numpy of 3607    1.0\n",
       "3985    1.0\n",
       "3465    1.0\n",
       "1749    1.0\n",
       "641     0.0\n",
       "       ... \n",
       "6081    1.0\n",
       "5019    1.0\n",
       "3154    1.0\n",
       "6032    1.0\n",
       "2040    1.0\n",
       "Name: class, Length: 1300, dtype: float64>"
      ]
     },
     "execution_count": 123,
     "metadata": {},
     "output_type": "execute_result"
    }
   ],
   "source": [
    "X_train.to_numpy\n",
    "X_test.to_numpy\n",
    "y_train.to_numpy\n",
    "y_test.to_numpy"
   ]
  },
  {
   "cell_type": "code",
   "execution_count": 124,
   "metadata": {},
   "outputs": [],
   "source": [
    "from keras import models\n",
    "from keras import layers\n",
    "\n",
    "def build_model(): \n",
    "    model = models.Sequential()\n",
    "    model.add(layers.Dense(64, activation='relu',input_shape=(X_train.shape[1],)))\n",
    "    model.add(layers.Dense(64, activation='relu'))\n",
    "    model.add(layers.Dense(1))\n",
    "    model.compile(optimizer='rmsprop', loss='mse', metrics=['mae'])\n",
    "    return model\n"
   ]
  },
  {
   "cell_type": "code",
   "execution_count": 125,
   "metadata": {},
   "outputs": [
    {
     "name": "stdout",
     "output_type": "stream",
     "text": [
      "41/41 [==============================] - 0s 930us/step - loss: 0.0857 - mae: 0.1791\n"
     ]
    }
   ],
   "source": [
    "model = build_model() \n",
    "model.fit(X_train, y_train, epochs=80, batch_size=16, verbose=0)\n",
    "test_mse_score, test_mae_score = model.evaluate(X_test, y_test)"
   ]
  },
  {
   "cell_type": "code",
   "execution_count": 126,
   "metadata": {},
   "outputs": [
    {
     "name": "stdout",
     "output_type": "stream",
     "text": [
      "Model: \"sequential_3\"\n",
      "_________________________________________________________________\n",
      " Layer (type)                Output Shape              Param #   \n",
      "=================================================================\n",
      " dense_101 (Dense)           (None, 64)                256       \n",
      "                                                                 \n",
      " dense_102 (Dense)           (None, 64)                4160      \n",
      "                                                                 \n",
      " dense_103 (Dense)           (None, 1)                 65        \n",
      "                                                                 \n",
      "=================================================================\n",
      "Total params: 4,481\n",
      "Trainable params: 4,481\n",
      "Non-trainable params: 0\n",
      "_________________________________________________________________\n"
     ]
    }
   ],
   "source": [
    "from tensorflow.keras.models import Sequential\n",
    "from tensorflow.keras.layers import Dense\n",
    "from tensorflow.keras.optimizers import SGD,Adam\n",
    "from keras.layers import Input, Dense\n",
    "from keras.models import Model\n",
    "\n",
    "# 이는 텐서를 반환합니다\n",
    "inputs = Input(shape=(3,))\n",
    "x = Dense(10, activation='relu')(inputs)\n",
    "x2 = Dense(12, activation='relu')(x)\n",
    "x3 = Dense(15, activation='relu')(x2)\n",
    "output=Dense(2,activation='softmax')(x3)\n",
    "\n",
    "model.summary()"
   ]
  },
  {
   "cell_type": "code",
   "execution_count": 127,
   "metadata": {},
   "outputs": [
    {
     "name": "stdout",
     "output_type": "stream",
     "text": [
      "Epoch 1/100\n",
      "163/163 [==============================] - 0s 2ms/step - loss: 0.0990 - mae: 0.2008 - val_loss: 0.0858 - val_mae: 0.1937\n",
      "Epoch 2/100\n",
      "163/163 [==============================] - 0s 2ms/step - loss: 0.0991 - mae: 0.2026 - val_loss: 0.0886 - val_mae: 0.1854\n",
      "Epoch 3/100\n",
      "163/163 [==============================] - 0s 2ms/step - loss: 0.0986 - mae: 0.2003 - val_loss: 0.0880 - val_mae: 0.1795\n",
      "Epoch 4/100\n",
      "163/163 [==============================] - 0s 3ms/step - loss: 0.0989 - mae: 0.2004 - val_loss: 0.0862 - val_mae: 0.1734\n",
      "Epoch 5/100\n",
      "163/163 [==============================] - 0s 2ms/step - loss: 0.0990 - mae: 0.2015 - val_loss: 0.0839 - val_mae: 0.1776\n",
      "Epoch 6/100\n",
      "163/163 [==============================] - 0s 2ms/step - loss: 0.0983 - mae: 0.2002 - val_loss: 0.0852 - val_mae: 0.1844\n",
      "Epoch 7/100\n",
      "163/163 [==============================] - 0s 2ms/step - loss: 0.0992 - mae: 0.2015 - val_loss: 0.0873 - val_mae: 0.1917\n",
      "Epoch 8/100\n",
      "163/163 [==============================] - 0s 2ms/step - loss: 0.0991 - mae: 0.2018 - val_loss: 0.0859 - val_mae: 0.2005\n",
      "Epoch 9/100\n",
      "163/163 [==============================] - 0s 2ms/step - loss: 0.0987 - mae: 0.2014 - val_loss: 0.0847 - val_mae: 0.1721\n",
      "Epoch 10/100\n",
      "163/163 [==============================] - 0s 2ms/step - loss: 0.0982 - mae: 0.1996 - val_loss: 0.0932 - val_mae: 0.1897\n",
      "Epoch 11/100\n",
      "163/163 [==============================] - 0s 2ms/step - loss: 0.0980 - mae: 0.1995 - val_loss: 0.0885 - val_mae: 0.1872\n",
      "Epoch 12/100\n",
      "163/163 [==============================] - 0s 2ms/step - loss: 0.0981 - mae: 0.1989 - val_loss: 0.0868 - val_mae: 0.1901\n",
      "Epoch 13/100\n",
      "163/163 [==============================] - 0s 2ms/step - loss: 0.0983 - mae: 0.1997 - val_loss: 0.0879 - val_mae: 0.2023\n",
      "Epoch 14/100\n",
      "163/163 [==============================] - 0s 2ms/step - loss: 0.0988 - mae: 0.2037 - val_loss: 0.0844 - val_mae: 0.1731\n",
      "Epoch 15/100\n",
      "163/163 [==============================] - 0s 2ms/step - loss: 0.0990 - mae: 0.2012 - val_loss: 0.0858 - val_mae: 0.1869\n",
      "Epoch 16/100\n",
      "163/163 [==============================] - 0s 2ms/step - loss: 0.0983 - mae: 0.1998 - val_loss: 0.0845 - val_mae: 0.1743\n",
      "Epoch 17/100\n",
      "163/163 [==============================] - 0s 2ms/step - loss: 0.0985 - mae: 0.1998 - val_loss: 0.0851 - val_mae: 0.1910\n",
      "Epoch 18/100\n",
      "163/163 [==============================] - 0s 2ms/step - loss: 0.0981 - mae: 0.2005 - val_loss: 0.0932 - val_mae: 0.1852\n",
      "Epoch 19/100\n",
      "163/163 [==============================] - 0s 2ms/step - loss: 0.0984 - mae: 0.1994 - val_loss: 0.0864 - val_mae: 0.1741\n",
      "Epoch 20/100\n",
      "163/163 [==============================] - 0s 2ms/step - loss: 0.0986 - mae: 0.2004 - val_loss: 0.0848 - val_mae: 0.1743\n",
      "Epoch 21/100\n",
      "163/163 [==============================] - 0s 2ms/step - loss: 0.0982 - mae: 0.2008 - val_loss: 0.0951 - val_mae: 0.1938\n",
      "Epoch 22/100\n",
      "163/163 [==============================] - 0s 2ms/step - loss: 0.0989 - mae: 0.2013 - val_loss: 0.0874 - val_mae: 0.2088\n",
      "Epoch 23/100\n",
      "163/163 [==============================] - 0s 2ms/step - loss: 0.0990 - mae: 0.2015 - val_loss: 0.0851 - val_mae: 0.1751\n",
      "Epoch 24/100\n",
      "163/163 [==============================] - 0s 2ms/step - loss: 0.0986 - mae: 0.1995 - val_loss: 0.0855 - val_mae: 0.1838\n",
      "Epoch 25/100\n",
      "163/163 [==============================] - 0s 2ms/step - loss: 0.0986 - mae: 0.2010 - val_loss: 0.0855 - val_mae: 0.1836\n",
      "Epoch 26/100\n",
      "163/163 [==============================] - 0s 2ms/step - loss: 0.0977 - mae: 0.1988 - val_loss: 0.0838 - val_mae: 0.1735\n",
      "Epoch 27/100\n",
      "163/163 [==============================] - 0s 2ms/step - loss: 0.0989 - mae: 0.2018 - val_loss: 0.0860 - val_mae: 0.1742\n",
      "Epoch 28/100\n",
      "163/163 [==============================] - 0s 2ms/step - loss: 0.0979 - mae: 0.2004 - val_loss: 0.0847 - val_mae: 0.1698\n",
      "Epoch 29/100\n",
      "163/163 [==============================] - 0s 2ms/step - loss: 0.0986 - mae: 0.2001 - val_loss: 0.0851 - val_mae: 0.1831\n",
      "Epoch 30/100\n",
      "163/163 [==============================] - 0s 2ms/step - loss: 0.0980 - mae: 0.1992 - val_loss: 0.0852 - val_mae: 0.1792\n",
      "Epoch 31/100\n",
      "163/163 [==============================] - 0s 2ms/step - loss: 0.0977 - mae: 0.1998 - val_loss: 0.0899 - val_mae: 0.1689\n",
      "Epoch 32/100\n",
      "163/163 [==============================] - 0s 2ms/step - loss: 0.0984 - mae: 0.2000 - val_loss: 0.0867 - val_mae: 0.1798\n",
      "Epoch 33/100\n",
      "163/163 [==============================] - 0s 2ms/step - loss: 0.0981 - mae: 0.1995 - val_loss: 0.0840 - val_mae: 0.1807\n",
      "Epoch 34/100\n",
      "163/163 [==============================] - 0s 2ms/step - loss: 0.0979 - mae: 0.2008 - val_loss: 0.0852 - val_mae: 0.1741\n",
      "Epoch 35/100\n",
      "163/163 [==============================] - 0s 2ms/step - loss: 0.0988 - mae: 0.2012 - val_loss: 0.0856 - val_mae: 0.1673\n",
      "Epoch 36/100\n",
      "163/163 [==============================] - 0s 2ms/step - loss: 0.0979 - mae: 0.1984 - val_loss: 0.0910 - val_mae: 0.2012\n",
      "Epoch 37/100\n",
      "163/163 [==============================] - 0s 2ms/step - loss: 0.0980 - mae: 0.1999 - val_loss: 0.0847 - val_mae: 0.1741\n",
      "Epoch 38/100\n",
      "163/163 [==============================] - 0s 2ms/step - loss: 0.0980 - mae: 0.1986 - val_loss: 0.0900 - val_mae: 0.1982\n",
      "Epoch 39/100\n",
      "163/163 [==============================] - 0s 2ms/step - loss: 0.0981 - mae: 0.2007 - val_loss: 0.0846 - val_mae: 0.1708\n",
      "Epoch 40/100\n",
      "163/163 [==============================] - 0s 2ms/step - loss: 0.0979 - mae: 0.1993 - val_loss: 0.0877 - val_mae: 0.2086\n",
      "Epoch 41/100\n",
      "163/163 [==============================] - 0s 2ms/step - loss: 0.0983 - mae: 0.2000 - val_loss: 0.0895 - val_mae: 0.1908\n",
      "Epoch 42/100\n",
      "163/163 [==============================] - 0s 2ms/step - loss: 0.0982 - mae: 0.2001 - val_loss: 0.0863 - val_mae: 0.1942\n",
      "Epoch 43/100\n",
      "163/163 [==============================] - 0s 2ms/step - loss: 0.0980 - mae: 0.2004 - val_loss: 0.0830 - val_mae: 0.1720\n",
      "Epoch 44/100\n",
      "163/163 [==============================] - 0s 2ms/step - loss: 0.0979 - mae: 0.1983 - val_loss: 0.0864 - val_mae: 0.1747\n",
      "Epoch 45/100\n",
      "163/163 [==============================] - 0s 2ms/step - loss: 0.0979 - mae: 0.2000 - val_loss: 0.0877 - val_mae: 0.1934\n",
      "Epoch 46/100\n",
      "163/163 [==============================] - 0s 2ms/step - loss: 0.0979 - mae: 0.1996 - val_loss: 0.0863 - val_mae: 0.1777\n",
      "Epoch 47/100\n",
      "163/163 [==============================] - 0s 2ms/step - loss: 0.0980 - mae: 0.2010 - val_loss: 0.0930 - val_mae: 0.2155\n",
      "Epoch 48/100\n",
      "163/163 [==============================] - 0s 2ms/step - loss: 0.0977 - mae: 0.1979 - val_loss: 0.1246 - val_mae: 0.2534\n",
      "Epoch 49/100\n",
      "163/163 [==============================] - 0s 2ms/step - loss: 0.0985 - mae: 0.2008 - val_loss: 0.0868 - val_mae: 0.1899\n",
      "Epoch 50/100\n",
      "163/163 [==============================] - 0s 2ms/step - loss: 0.0972 - mae: 0.1984 - val_loss: 0.0846 - val_mae: 0.1692\n",
      "Epoch 51/100\n",
      "163/163 [==============================] - 0s 2ms/step - loss: 0.0975 - mae: 0.1982 - val_loss: 0.0845 - val_mae: 0.1790\n",
      "Epoch 52/100\n",
      "163/163 [==============================] - 0s 2ms/step - loss: 0.0965 - mae: 0.1986 - val_loss: 0.0834 - val_mae: 0.1716\n",
      "Epoch 53/100\n",
      "163/163 [==============================] - 0s 2ms/step - loss: 0.0977 - mae: 0.1985 - val_loss: 0.0911 - val_mae: 0.2046\n",
      "Epoch 54/100\n",
      "163/163 [==============================] - 0s 2ms/step - loss: 0.0972 - mae: 0.1994 - val_loss: 0.0879 - val_mae: 0.1921\n",
      "Epoch 55/100\n",
      "163/163 [==============================] - 0s 2ms/step - loss: 0.0977 - mae: 0.1995 - val_loss: 0.0879 - val_mae: 0.1913\n",
      "Epoch 56/100\n",
      "163/163 [==============================] - 0s 2ms/step - loss: 0.0973 - mae: 0.1980 - val_loss: 0.0840 - val_mae: 0.1754\n",
      "Epoch 57/100\n",
      "163/163 [==============================] - 0s 2ms/step - loss: 0.0974 - mae: 0.1988 - val_loss: 0.0885 - val_mae: 0.1739\n",
      "Epoch 58/100\n",
      "163/163 [==============================] - 0s 2ms/step - loss: 0.0984 - mae: 0.1988 - val_loss: 0.0864 - val_mae: 0.1868\n",
      "Epoch 59/100\n",
      "163/163 [==============================] - 0s 2ms/step - loss: 0.0978 - mae: 0.2007 - val_loss: 0.0856 - val_mae: 0.1754\n",
      "Epoch 60/100\n",
      "163/163 [==============================] - 0s 2ms/step - loss: 0.0980 - mae: 0.2005 - val_loss: 0.0980 - val_mae: 0.2154\n",
      "Epoch 61/100\n",
      "163/163 [==============================] - 0s 2ms/step - loss: 0.0976 - mae: 0.1987 - val_loss: 0.0853 - val_mae: 0.1752\n",
      "Epoch 62/100\n",
      "163/163 [==============================] - 0s 2ms/step - loss: 0.0979 - mae: 0.1988 - val_loss: 0.1216 - val_mae: 0.2513\n",
      "Epoch 63/100\n",
      "163/163 [==============================] - 0s 2ms/step - loss: 0.0972 - mae: 0.1967 - val_loss: 0.0966 - val_mae: 0.2219\n",
      "Epoch 64/100\n",
      "163/163 [==============================] - 0s 2ms/step - loss: 0.0974 - mae: 0.1990 - val_loss: 0.0854 - val_mae: 0.1789\n",
      "Epoch 65/100\n",
      "163/163 [==============================] - 0s 2ms/step - loss: 0.0975 - mae: 0.1983 - val_loss: 0.0844 - val_mae: 0.1739\n",
      "Epoch 66/100\n",
      "163/163 [==============================] - 0s 2ms/step - loss: 0.0966 - mae: 0.1981 - val_loss: 0.0838 - val_mae: 0.1701\n",
      "Epoch 67/100\n",
      "163/163 [==============================] - 0s 2ms/step - loss: 0.0970 - mae: 0.1986 - val_loss: 0.0848 - val_mae: 0.1618\n",
      "Epoch 68/100\n",
      "163/163 [==============================] - 0s 2ms/step - loss: 0.0983 - mae: 0.1980 - val_loss: 0.0857 - val_mae: 0.1844\n",
      "Epoch 69/100\n",
      "163/163 [==============================] - 0s 2ms/step - loss: 0.0979 - mae: 0.1993 - val_loss: 0.0933 - val_mae: 0.2211\n",
      "Epoch 70/100\n",
      "163/163 [==============================] - 0s 2ms/step - loss: 0.0980 - mae: 0.2000 - val_loss: 0.0856 - val_mae: 0.1807\n",
      "Epoch 71/100\n",
      "163/163 [==============================] - 0s 2ms/step - loss: 0.0978 - mae: 0.1975 - val_loss: 0.0876 - val_mae: 0.2085\n",
      "Epoch 72/100\n",
      "163/163 [==============================] - 0s 2ms/step - loss: 0.0971 - mae: 0.1989 - val_loss: 0.0847 - val_mae: 0.1756\n",
      "Epoch 73/100\n",
      "163/163 [==============================] - 0s 2ms/step - loss: 0.0979 - mae: 0.1992 - val_loss: 0.1065 - val_mae: 0.2302\n",
      "Epoch 74/100\n",
      "163/163 [==============================] - 0s 2ms/step - loss: 0.0977 - mae: 0.1983 - val_loss: 0.0880 - val_mae: 0.1669\n",
      "Epoch 75/100\n",
      "163/163 [==============================] - 0s 2ms/step - loss: 0.0971 - mae: 0.1961 - val_loss: 0.0852 - val_mae: 0.1939\n",
      "Epoch 76/100\n",
      "163/163 [==============================] - 0s 2ms/step - loss: 0.0979 - mae: 0.1988 - val_loss: 0.0926 - val_mae: 0.1878\n",
      "Epoch 77/100\n",
      "163/163 [==============================] - 0s 2ms/step - loss: 0.0969 - mae: 0.1972 - val_loss: 0.0840 - val_mae: 0.1607\n",
      "Epoch 78/100\n",
      "163/163 [==============================] - 0s 2ms/step - loss: 0.0980 - mae: 0.1985 - val_loss: 0.0860 - val_mae: 0.1820\n",
      "Epoch 79/100\n",
      "163/163 [==============================] - 0s 2ms/step - loss: 0.0971 - mae: 0.1967 - val_loss: 0.0847 - val_mae: 0.1739\n",
      "Epoch 80/100\n",
      "163/163 [==============================] - 0s 2ms/step - loss: 0.0975 - mae: 0.1988 - val_loss: 0.0846 - val_mae: 0.1663\n",
      "Epoch 81/100\n",
      "163/163 [==============================] - 0s 2ms/step - loss: 0.0968 - mae: 0.1961 - val_loss: 0.0841 - val_mae: 0.1696\n",
      "Epoch 82/100\n",
      "163/163 [==============================] - 0s 2ms/step - loss: 0.0977 - mae: 0.1994 - val_loss: 0.0895 - val_mae: 0.1941\n",
      "Epoch 83/100\n",
      "163/163 [==============================] - 0s 2ms/step - loss: 0.0972 - mae: 0.1970 - val_loss: 0.0856 - val_mae: 0.1851\n",
      "Epoch 84/100\n",
      "163/163 [==============================] - 0s 2ms/step - loss: 0.0963 - mae: 0.1967 - val_loss: 0.0888 - val_mae: 0.2198\n",
      "Epoch 85/100\n",
      "163/163 [==============================] - 0s 2ms/step - loss: 0.0974 - mae: 0.1990 - val_loss: 0.0859 - val_mae: 0.1800\n",
      "Epoch 86/100\n",
      "163/163 [==============================] - 0s 2ms/step - loss: 0.0965 - mae: 0.1970 - val_loss: 0.0862 - val_mae: 0.1854\n",
      "Epoch 87/100\n",
      "163/163 [==============================] - 0s 2ms/step - loss: 0.0974 - mae: 0.1990 - val_loss: 0.0861 - val_mae: 0.1826\n",
      "Epoch 88/100\n",
      "163/163 [==============================] - 0s 2ms/step - loss: 0.0973 - mae: 0.1988 - val_loss: 0.0908 - val_mae: 0.1922\n",
      "Epoch 89/100\n",
      "163/163 [==============================] - 0s 2ms/step - loss: 0.0973 - mae: 0.1978 - val_loss: 0.0857 - val_mae: 0.1771\n",
      "Epoch 90/100\n",
      "163/163 [==============================] - 0s 2ms/step - loss: 0.0969 - mae: 0.1972 - val_loss: 0.0846 - val_mae: 0.1979\n",
      "Epoch 91/100\n",
      "163/163 [==============================] - 0s 2ms/step - loss: 0.0974 - mae: 0.1998 - val_loss: 0.0989 - val_mae: 0.2070\n",
      "Epoch 92/100\n",
      "163/163 [==============================] - 0s 2ms/step - loss: 0.0981 - mae: 0.1986 - val_loss: 0.0866 - val_mae: 0.1773\n",
      "Epoch 93/100\n",
      "163/163 [==============================] - 0s 2ms/step - loss: 0.0976 - mae: 0.2002 - val_loss: 0.0867 - val_mae: 0.1690\n",
      "Epoch 94/100\n",
      "163/163 [==============================] - 0s 2ms/step - loss: 0.0976 - mae: 0.1987 - val_loss: 0.0874 - val_mae: 0.1918\n",
      "Epoch 95/100\n",
      "163/163 [==============================] - 0s 2ms/step - loss: 0.0974 - mae: 0.1986 - val_loss: 0.0946 - val_mae: 0.2124\n",
      "Epoch 96/100\n",
      "163/163 [==============================] - 0s 2ms/step - loss: 0.0977 - mae: 0.1989 - val_loss: 0.0869 - val_mae: 0.1836\n",
      "Epoch 97/100\n",
      "163/163 [==============================] - 0s 2ms/step - loss: 0.0976 - mae: 0.1978 - val_loss: 0.0895 - val_mae: 0.1985\n",
      "Epoch 98/100\n",
      "163/163 [==============================] - 0s 2ms/step - loss: 0.0977 - mae: 0.1987 - val_loss: 0.0874 - val_mae: 0.2091\n",
      "Epoch 99/100\n",
      "163/163 [==============================] - 1s 3ms/step - loss: 0.0973 - mae: 0.1992 - val_loss: 0.0892 - val_mae: 0.1656\n",
      "Epoch 100/100\n",
      "163/163 [==============================] - 1s 3ms/step - loss: 0.0968 - mae: 0.1984 - val_loss: 0.0875 - val_mae: 0.1871\n",
      "41/41 [==============================] - 0s 2ms/step\n"
     ]
    },
    {
     "ename": "ValueError",
     "evalue": "`axis` must be fewer than the number of dimensions (1)",
     "output_type": "error",
     "traceback": [
      "\u001b[1;31m---------------------------------------------------------------------------\u001b[0m",
      "\u001b[1;31mValueError\u001b[0m                                Traceback (most recent call last)",
      "\u001b[1;32m~\\AppData\\Local\\Temp\\ipykernel_21812\\2853794144.py\u001b[0m in \u001b[0;36m<module>\u001b[1;34m\u001b[0m\n\u001b[0;32m      5\u001b[0m \u001b[0my_pred\u001b[0m \u001b[1;33m=\u001b[0m \u001b[0mmodel\u001b[0m\u001b[1;33m.\u001b[0m\u001b[0mpredict\u001b[0m\u001b[1;33m(\u001b[0m\u001b[0mX_test\u001b[0m\u001b[1;33m)\u001b[0m\u001b[1;33m\u001b[0m\u001b[1;33m\u001b[0m\u001b[0m\n\u001b[0;32m      6\u001b[0m \u001b[1;33m\u001b[0m\u001b[0m\n\u001b[1;32m----> 7\u001b[1;33m \u001b[0my_test_class\u001b[0m \u001b[1;33m=\u001b[0m \u001b[0mnp\u001b[0m\u001b[1;33m.\u001b[0m\u001b[0margmax\u001b[0m\u001b[1;33m(\u001b[0m\u001b[0my_test\u001b[0m\u001b[1;33m,\u001b[0m\u001b[0maxis\u001b[0m\u001b[1;33m=\u001b[0m\u001b[1;36m1\u001b[0m\u001b[1;33m)\u001b[0m\u001b[1;33m\u001b[0m\u001b[1;33m\u001b[0m\u001b[0m\n\u001b[0m\u001b[0;32m      8\u001b[0m \u001b[0my_pred_class\u001b[0m \u001b[1;33m=\u001b[0m \u001b[0mnp\u001b[0m\u001b[1;33m.\u001b[0m\u001b[0margmax\u001b[0m\u001b[1;33m(\u001b[0m\u001b[0my_pred\u001b[0m\u001b[1;33m,\u001b[0m\u001b[0maxis\u001b[0m\u001b[1;33m=\u001b[0m\u001b[1;36m1\u001b[0m\u001b[1;33m)\u001b[0m\u001b[1;33m\u001b[0m\u001b[1;33m\u001b[0m\u001b[0m\n",
      "\u001b[1;32m<__array_function__ internals>\u001b[0m in \u001b[0;36margmax\u001b[1;34m(*args, **kwargs)\u001b[0m\n",
      "\u001b[1;32mc:\\new\\lib\\site-packages\\numpy\\core\\fromnumeric.py\u001b[0m in \u001b[0;36margmax\u001b[1;34m(a, axis, out)\u001b[0m\n\u001b[0;32m   1193\u001b[0m \u001b[1;33m\u001b[0m\u001b[0m\n\u001b[0;32m   1194\u001b[0m     \"\"\"\n\u001b[1;32m-> 1195\u001b[1;33m     \u001b[1;32mreturn\u001b[0m \u001b[0m_wrapfunc\u001b[0m\u001b[1;33m(\u001b[0m\u001b[0ma\u001b[0m\u001b[1;33m,\u001b[0m \u001b[1;34m'argmax'\u001b[0m\u001b[1;33m,\u001b[0m \u001b[0maxis\u001b[0m\u001b[1;33m=\u001b[0m\u001b[0maxis\u001b[0m\u001b[1;33m,\u001b[0m \u001b[0mout\u001b[0m\u001b[1;33m=\u001b[0m\u001b[0mout\u001b[0m\u001b[1;33m)\u001b[0m\u001b[1;33m\u001b[0m\u001b[1;33m\u001b[0m\u001b[0m\n\u001b[0m\u001b[0;32m   1196\u001b[0m \u001b[1;33m\u001b[0m\u001b[0m\n\u001b[0;32m   1197\u001b[0m \u001b[1;33m\u001b[0m\u001b[0m\n",
      "\u001b[1;32mc:\\new\\lib\\site-packages\\numpy\\core\\fromnumeric.py\u001b[0m in \u001b[0;36m_wrapfunc\u001b[1;34m(obj, method, *args, **kwds)\u001b[0m\n\u001b[0;32m     55\u001b[0m \u001b[1;33m\u001b[0m\u001b[0m\n\u001b[0;32m     56\u001b[0m     \u001b[1;32mtry\u001b[0m\u001b[1;33m:\u001b[0m\u001b[1;33m\u001b[0m\u001b[1;33m\u001b[0m\u001b[0m\n\u001b[1;32m---> 57\u001b[1;33m         \u001b[1;32mreturn\u001b[0m \u001b[0mbound\u001b[0m\u001b[1;33m(\u001b[0m\u001b[1;33m*\u001b[0m\u001b[0margs\u001b[0m\u001b[1;33m,\u001b[0m \u001b[1;33m**\u001b[0m\u001b[0mkwds\u001b[0m\u001b[1;33m)\u001b[0m\u001b[1;33m\u001b[0m\u001b[1;33m\u001b[0m\u001b[0m\n\u001b[0m\u001b[0;32m     58\u001b[0m     \u001b[1;32mexcept\u001b[0m \u001b[0mTypeError\u001b[0m\u001b[1;33m:\u001b[0m\u001b[1;33m\u001b[0m\u001b[1;33m\u001b[0m\u001b[0m\n\u001b[0;32m     59\u001b[0m         \u001b[1;31m# A TypeError occurs if the object does have such a method in its\u001b[0m\u001b[1;33m\u001b[0m\u001b[1;33m\u001b[0m\u001b[0m\n",
      "\u001b[1;32mc:\\new\\lib\\site-packages\\pandas\\core\\base.py\u001b[0m in \u001b[0;36margmax\u001b[1;34m(self, axis, skipna, *args, **kwargs)\u001b[0m\n\u001b[0;32m    644\u001b[0m         \"\"\"\n\u001b[0;32m    645\u001b[0m         \u001b[0mdelegate\u001b[0m \u001b[1;33m=\u001b[0m \u001b[0mself\u001b[0m\u001b[1;33m.\u001b[0m\u001b[0m_values\u001b[0m\u001b[1;33m\u001b[0m\u001b[1;33m\u001b[0m\u001b[0m\n\u001b[1;32m--> 646\u001b[1;33m         \u001b[0mnv\u001b[0m\u001b[1;33m.\u001b[0m\u001b[0mvalidate_minmax_axis\u001b[0m\u001b[1;33m(\u001b[0m\u001b[0maxis\u001b[0m\u001b[1;33m)\u001b[0m\u001b[1;33m\u001b[0m\u001b[1;33m\u001b[0m\u001b[0m\n\u001b[0m\u001b[0;32m    647\u001b[0m         \u001b[0mskipna\u001b[0m \u001b[1;33m=\u001b[0m \u001b[0mnv\u001b[0m\u001b[1;33m.\u001b[0m\u001b[0mvalidate_argmax_with_skipna\u001b[0m\u001b[1;33m(\u001b[0m\u001b[0mskipna\u001b[0m\u001b[1;33m,\u001b[0m \u001b[0margs\u001b[0m\u001b[1;33m,\u001b[0m \u001b[0mkwargs\u001b[0m\u001b[1;33m)\u001b[0m\u001b[1;33m\u001b[0m\u001b[1;33m\u001b[0m\u001b[0m\n\u001b[0;32m    648\u001b[0m \u001b[1;33m\u001b[0m\u001b[0m\n",
      "\u001b[1;32mc:\\new\\lib\\site-packages\\pandas\\compat\\numpy\\function.py\u001b[0m in \u001b[0;36mvalidate_minmax_axis\u001b[1;34m(axis, ndim)\u001b[0m\n\u001b[0;32m    407\u001b[0m         \u001b[1;32mreturn\u001b[0m\u001b[1;33m\u001b[0m\u001b[1;33m\u001b[0m\u001b[0m\n\u001b[0;32m    408\u001b[0m     \u001b[1;32mif\u001b[0m \u001b[0maxis\u001b[0m \u001b[1;33m>=\u001b[0m \u001b[0mndim\u001b[0m \u001b[1;32mor\u001b[0m \u001b[1;33m(\u001b[0m\u001b[0maxis\u001b[0m \u001b[1;33m<\u001b[0m \u001b[1;36m0\u001b[0m \u001b[1;32mand\u001b[0m \u001b[0mndim\u001b[0m \u001b[1;33m+\u001b[0m \u001b[0maxis\u001b[0m \u001b[1;33m<\u001b[0m \u001b[1;36m0\u001b[0m\u001b[1;33m)\u001b[0m\u001b[1;33m:\u001b[0m\u001b[1;33m\u001b[0m\u001b[1;33m\u001b[0m\u001b[0m\n\u001b[1;32m--> 409\u001b[1;33m         \u001b[1;32mraise\u001b[0m \u001b[0mValueError\u001b[0m\u001b[1;33m(\u001b[0m\u001b[1;34mf\"`axis` must be fewer than the number of dimensions ({ndim})\"\u001b[0m\u001b[1;33m)\u001b[0m\u001b[1;33m\u001b[0m\u001b[1;33m\u001b[0m\u001b[0m\n\u001b[0m",
      "\u001b[1;31mValueError\u001b[0m: `axis` must be fewer than the number of dimensions (1)"
     ]
    }
   ],
   "source": [
    "#fitting the model and predicting \n",
    "\n",
    "# fit network\n",
    "model_history=model.fit(x=X_train, y=y_train, epochs=100, batch_size=32,validation_data= (X_test,y_test))\n",
    "y_pred = model.predict(X_test)\n",
    "\n",
    "y_test_class = np.argmax(y_test,axis=1)\n",
    "y_pred_class = np.argmax(y_pred,axis=1)"
   ]
  },
  {
   "cell_type": "code",
   "execution_count": 128,
   "metadata": {},
   "outputs": [
    {
     "data": {
      "image/png": "[encoded data removed]",
      "text/plain": [
       "<Figure size 640x480 with 1 Axes>"
      ]
     },
     "metadata": {},
     "output_type": "display_data"
    }
   ],
   "source": [
    "import matplotlib.pyplot as plt\n",
    "import seaborn as sns\n",
    "\n",
    "loss = model_history.history['loss']\n",
    "val_loss = model_history.history['val_loss']\n",
    "epochs = range(1, len(loss) + 1)\n",
    "plt.plot(epochs, loss, 'y', label='Training loss')\n",
    "plt.plot(epochs, val_loss, 'r', label='Validation loss')\n",
    "plt.title('Training and validation loss')\n",
    "plt.xlabel('Epochs')\n",
    "plt.ylabel('Loss')\n",
    "plt.legend()\n",
    "plt.show()"
   ]
  },
  {
   "cell_type": "code",
   "execution_count": 130,
   "metadata": {},
   "outputs": [
    {
     "ename": "KeyError",
     "evalue": "'accuracy'",
     "output_type": "error",
     "traceback": [
      "\u001b[1;31m---------------------------------------------------------------------------\u001b[0m",
      "\u001b[1;31mKeyError\u001b[0m                                  Traceback (most recent call last)",
      "\u001b[1;32m~\\AppData\\Local\\Temp\\ipykernel_21812\\2314651906.py\u001b[0m in \u001b[0;36m<module>\u001b[1;34m\u001b[0m\n\u001b[1;32m----> 1\u001b[1;33m \u001b[0macc\u001b[0m \u001b[1;33m=\u001b[0m \u001b[0mmodel_history\u001b[0m\u001b[1;33m.\u001b[0m\u001b[0mhistory\u001b[0m\u001b[1;33m[\u001b[0m\u001b[1;34m'accuracy'\u001b[0m\u001b[1;33m]\u001b[0m\u001b[1;33m\u001b[0m\u001b[1;33m\u001b[0m\u001b[0m\n\u001b[0m\u001b[0;32m      2\u001b[0m \u001b[0mval_acc\u001b[0m \u001b[1;33m=\u001b[0m\u001b[0mmodel_history\u001b[0m\u001b[1;33m.\u001b[0m\u001b[0mhistory\u001b[0m\u001b[1;33m[\u001b[0m\u001b[1;34m'val_accuracy'\u001b[0m\u001b[1;33m]\u001b[0m\u001b[1;33m\u001b[0m\u001b[1;33m\u001b[0m\u001b[0m\n\u001b[0;32m      3\u001b[0m \u001b[0mplt\u001b[0m\u001b[1;33m.\u001b[0m\u001b[0mplot\u001b[0m\u001b[1;33m(\u001b[0m\u001b[0mepochs\u001b[0m\u001b[1;33m,\u001b[0m \u001b[0macc\u001b[0m\u001b[1;33m,\u001b[0m \u001b[1;34m'y'\u001b[0m\u001b[1;33m,\u001b[0m \u001b[0mlabel\u001b[0m\u001b[1;33m=\u001b[0m\u001b[1;34m'Training acc'\u001b[0m\u001b[1;33m)\u001b[0m\u001b[1;33m\u001b[0m\u001b[1;33m\u001b[0m\u001b[0m\n\u001b[0;32m      4\u001b[0m \u001b[0mplt\u001b[0m\u001b[1;33m.\u001b[0m\u001b[0mplot\u001b[0m\u001b[1;33m(\u001b[0m\u001b[0mepochs\u001b[0m\u001b[1;33m,\u001b[0m \u001b[0mval_acc\u001b[0m\u001b[1;33m,\u001b[0m \u001b[1;34m'r'\u001b[0m\u001b[1;33m,\u001b[0m \u001b[0mlabel\u001b[0m\u001b[1;33m=\u001b[0m\u001b[1;34m'Validation acc'\u001b[0m\u001b[1;33m)\u001b[0m\u001b[1;33m\u001b[0m\u001b[1;33m\u001b[0m\u001b[0m\n\u001b[0;32m      5\u001b[0m \u001b[0mplt\u001b[0m\u001b[1;33m.\u001b[0m\u001b[0mtitle\u001b[0m\u001b[1;33m(\u001b[0m\u001b[1;34m'Training and validation accuracy'\u001b[0m\u001b[1;33m)\u001b[0m\u001b[1;33m\u001b[0m\u001b[1;33m\u001b[0m\u001b[0m\n",
      "\u001b[1;31mKeyError\u001b[0m: 'accuracy'"
     ]
    }
   ],
   "source": [
    "acc = model_history.history['accuracy']\n",
    "val_acc =model_history.history['val_accuracy']\n",
    "plt.plot(epochs, acc, 'y', label='Training acc')\n",
    "plt.plot(epochs, val_acc, 'r', label='Validation acc')\n",
    "plt.title('Training and validation accuracy')\n",
    "plt.xlabel('Epochs')\n",
    "plt.ylabel('Accuracy')\n",
    "plt.legend()\n",
    "plt.show()"
   ]
  },
  {
   "cell_type": "code",
   "execution_count": 131,
   "metadata": {},
   "outputs": [
    {
     "name": "stdout",
     "output_type": "stream",
     "text": [
      "              precision    recall  f1-score   support\n",
      "\n",
      "           0       0.24      1.00      0.39       311\n",
      "           1       0.00      0.00      0.00       989\n",
      "\n",
      "    accuracy                           0.24      1300\n",
      "   macro avg       0.12      0.50      0.19      1300\n",
      "weighted avg       0.06      0.24      0.09      1300\n",
      "\n",
      "[[311   0]\n",
      " [989   0]]\n"
     ]
    },
    {
     "name": "stderr",
     "output_type": "stream",
     "text": [
      "c:\\new\\lib\\site-packages\\sklearn\\metrics\\_classification.py:1318: UndefinedMetricWarning: Precision and F-score are ill-defined and being set to 0.0 in labels with no predicted samples. Use `zero_division` parameter to control this behavior.\n",
      "  _warn_prf(average, modifier, msg_start, len(result))\n",
      "c:\\new\\lib\\site-packages\\sklearn\\metrics\\_classification.py:1318: UndefinedMetricWarning: Precision and F-score are ill-defined and being set to 0.0 in labels with no predicted samples. Use `zero_division` parameter to control this behavior.\n",
      "  _warn_prf(average, modifier, msg_start, len(result))\n",
      "c:\\new\\lib\\site-packages\\sklearn\\metrics\\_classification.py:1318: UndefinedMetricWarning: Precision and F-score are ill-defined and being set to 0.0 in labels with no predicted samples. Use `zero_division` parameter to control this behavior.\n",
      "  _warn_prf(average, modifier, msg_start, len(result))\n"
     ]
    }
   ],
   "source": [
    "#Accuracy of the predicted values\n",
    "from sklearn.metrics import classification_report,confusion_matrix\n",
    "print(classification_report(y_test_class,y_pred_class))\n",
    "print(confusion_matrix(y_test_class,y_pred_class))"
   ]
  }
 ],
 "metadata": {
  "kernelspec": {
   "display_name": "base",
   "language": "python",
   "name": "python3"
  },
  "language_info": {
   "codemirror_mode": {
    "name": "ipython",
    "version": 3
   },
   "file_extension": ".py",
   "mimetype": "text/x-python",
   "name": "python",
   "nbconvert_exporter": "python",
   "pygments_lexer": "ipython3",
   "version": "3.9.13"
  },
  "orig_nbformat": 4
 },
 "nbformat": 4,
 "nbformat_minor": 2
}
